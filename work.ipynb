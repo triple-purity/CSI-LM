{
 "cells": [
  {
   "cell_type": "code",
   "execution_count": null,
   "metadata": {},
   "outputs": [],
   "source": [
    "import torch\n",
    "import torch.nn as nn\n",
    "\n",
    "import clip\n",
    "import numpy as np\n"
   ]
  },
  {
   "cell_type": "markdown",
   "metadata": {},
   "source": [
    "### 1. CLIP"
   ]
  },
  {
   "cell_type": "code",
   "execution_count": null,
   "metadata": {},
   "outputs": [],
   "source": [
    "! pip install ftfy regex tqdm\n",
    "! pip install git+https://github.com/openai/CLIP.git"
   ]
  },
  {
   "cell_type": "code",
   "execution_count": null,
   "metadata": {},
   "outputs": [],
   "source": [
    "model, preprocess = clip.load(\"ViT-B/32\")\n",
    "input_resolution = model.visual.input_resolution\n",
    "\n",
    "print(\"Input resolution:\", input_resolution)"
   ]
  },
  {
   "cell_type": "code",
   "execution_count": null,
   "metadata": {},
   "outputs": [],
   "source": [
    "trans = model.transformer\n",
    "trans"
   ]
  },
  {
   "cell_type": "markdown",
   "metadata": {},
   "source": [
    "### 2. Data"
   ]
  },
  {
   "cell_type": "markdown",
   "metadata": {},
   "source": [
    "#### 2.0.0 CSI $\\rightarrow$ CSI-Ratio"
   ]
  },
  {
   "cell_type": "code",
   "execution_count": null,
   "metadata": {},
   "outputs": [],
   "source": [
    "import numpy as np\n",
    "import math\n",
    "\n",
    "# 假设CSI数据的形状为 (num_packets, num_antennas, num_subcarriers)\n",
    "# num_packets: 数据包数量（时间序列）\n",
    "# num_antennas: 天线数量（3根天线）\n",
    "# num_subcarriers: 子载波数量（30个子载波）\n",
    "\n",
    "def calculate_amplitude_variance_ratio(csi_data):\n",
    "    \"\"\"\n",
    "    计算每个天线的所有子载波的幅度方差比之和\n",
    "    :param csi_data: CSI数据，形状为 (num_packets, num_antennas, num_subcarriers)\n",
    "    :return: 每个天线的幅度方差比之和，形状为 (num_antennas,)\n",
    "    \"\"\"\n",
    "    # 计算幅度\n",
    "    amplitude = np.abs(csi_data)  # 形状为 (num_packets, num_antennas, num_subcarriers)\n",
    "\n",
    "    # 计算每个天线和子载波的幅度方差\n",
    "    variance = np.var(amplitude, axis=0)  # 形状为 (num_antennas, num_subcarriers)\n",
    "\n",
    "    # 计算每个天线的幅度方差比之和\n",
    "    variance_ratio_sum = np.sum(variance, axis=1)  # 形状为 (num_antennas,)\n",
    "\n",
    "    return variance_ratio_sum\n",
    "\n",
    "def select_reference_antenna(csi_data):\n",
    "    \"\"\"\n",
    "    选择参考天线（幅度方差比之和最小的天线）\n",
    "    :param csi_data: CSI数据，形状为 (num_packets, num_antennas, num_subcarriers)\n",
    "    :return: 参考天线的索引\n",
    "    \"\"\"\n",
    "    variance_ratio_sum = calculate_amplitude_variance_ratio(csi_data)\n",
    "    reference_antenna_index = np.argmin(variance_ratio_sum)\n",
    "    return reference_antenna_index\n",
    "\n",
    "def calculate_csi_ratio(csi_data):\n",
    "    \"\"\"\n",
    "    计算CSI比值（CSI-Ratio）\n",
    "    :param csi_data: CSI数据，形状为 (num_packets, num_antennas, num_subcarriers)\n",
    "    :return: CSI比值数据，形状为 (num_packets, num_antennas, num_subcarriers)\n",
    "    \"\"\"\n",
    "    num_packets, num_antennas, num_subcarriers = csi_data.shape\n",
    "\n",
    "    # 选择参考天线\n",
    "    reference_antenna_index = select_reference_antenna(csi_data)\n",
    "    reference_csi = csi_data[:, reference_antenna_index, :]  # 参考天线的CSI数据\n",
    "\n",
    "    # 计算CSI比值\n",
    "    csi_ratio = np.zeros_like(csi_data)\n",
    "    for antenna in range(num_antennas):\n",
    "        if antenna == reference_antenna_index:\n",
    "            # 参考天线的CSI比值为1\n",
    "            csi_ratio[:, antenna, :] = 1.0\n",
    "        else:\n",
    "            # 其他天线的CSI比值\n",
    "            csi_ratio[:, antenna, :] = csi_data[:, antenna, :] / reference_csi\n",
    "\n",
    "    return csi_ratio"
   ]
  },
  {
   "cell_type": "code",
   "execution_count": null,
   "metadata": {},
   "outputs": [],
   "source": [
    "# 示例：生成随机CSI数据\n",
    "num_packets = 100  # 假设有100个数据包\n",
    "num_antennas = 3   # 3根天线\n",
    "num_subcarriers = 30  # 30个子载波\n",
    "csi_data = np.random.rand(num_packets, num_antennas, num_subcarriers) + 1j * np.random.rand(num_packets, num_antennas, num_subcarriers)\n",
    "\n",
    "# 计算CSI比值\n",
    "csi_ratio = calculate_csi_ratio(csi_data)\n",
    "\n",
    "# 输出结果\n",
    "print(\"CSI比值数据的形状:\", csi_ratio.shape)"
   ]
  },
  {
   "cell_type": "markdown",
   "metadata": {},
   "source": [
    "#### 2.0.1 CSI Resample"
   ]
  },
  {
   "cell_type": "code",
   "execution_count": null,
   "metadata": {},
   "outputs": [],
   "source": [
    "import numpy as np\n",
    "from scipy.interpolate import interp1d\n",
    "\n",
    "def resample_csi_sequence(csi_sequence, target_length=500):\n",
    "    \"\"\"\n",
    "    对单个CSI序列进行重采样至目标长度\n",
    "    :param csi_sequence: 原始CSI序列，形状为 (original_length, num_antennas, num_subcarriers)\n",
    "    :param target_length: 目标序列长度（默认为500）\n",
    "    :return: 重采样后的CSI序列，形状为 (target_length, num_antennas, num_subcarriers)\n",
    "    \"\"\"\n",
    "    original_length = csi_sequence.shape[0]\n",
    "    num_antennas = csi_sequence.shape[1]\n",
    "    num_subcarriers = csi_sequence.shape[2]\n",
    "    \n",
    "    # 创建新时间轴\n",
    "    original_time = np.linspace(0, 1, original_length)  # 归一化时间轴\n",
    "    new_time = np.linspace(0, 1, target_length)          # 目标时间轴\n",
    "    \n",
    "    # 初始化输出序列\n",
    "    resampled_sequence = np.zeros((target_length, num_antennas, num_subcarriers), dtype=np.complex_)\n",
    "    \n",
    "    # 对每个天线和子载波进行插值\n",
    "    for ant in range(num_antennas):\n",
    "        for sc in range(num_subcarriers):\n",
    "            # 提取原始复数值序列\n",
    "            complex_sequence = csi_sequence[:, ant, sc]\n",
    "            \n",
    "            # 创建插值函数（对实部和虚部分别插值）\n",
    "            interp_real = interp1d(original_time, complex_sequence.real, kind='linear')\n",
    "            interp_imag = interp1d(original_time, complex_sequence.imag, kind='linear')\n",
    "            \n",
    "            # 生成新序列\n",
    "            resampled_real = interp_real(new_time)\n",
    "            resampled_imag = interp_imag(new_time)\n",
    "            \n",
    "            # 组合复数值\n",
    "            resampled_sequence[:, ant, sc] = resampled_real + 1j * resampled_imag\n",
    "            \n",
    "    return resampled_sequence\n",
    "\n",
    "def batch_resample(csi_data, target_length=500):\n",
    "    \"\"\"\n",
    "    批量处理CSI数据集\n",
    "    :param csi_data: 原始CSI数据集，形状为 (num_samples, original_length, num_antennas, num_subcarriers)\n",
    "    :param target_length: 目标序列长度\n",
    "    :return: 重采样后的数据集，形状为 (num_samples, target_length, num_antennas, num_subcarriers)\n",
    "    \"\"\"\n",
    "    num_samples = csi_data.shape[0]\n",
    "    resampled_data = []\n",
    "    \n",
    "    for i in range(num_samples):\n",
    "        resampled_seq = resample_csi_sequence(csi_data[i], target_length)\n",
    "        resampled_data.append(resampled_seq)\n",
    "    \n",
    "    return np.array(resampled_data)"
   ]
  },
  {
   "cell_type": "code",
   "execution_count": null,
   "metadata": {},
   "outputs": [],
   "source": [
    "# 生成示例数据\n",
    "np.random.seed(0)\n",
    "\n",
    "# 创建不同长度的CSI序列\n",
    "raw_data = [\n",
    "    np.random.randn(300, 3, 30) + 1j*np.random.randn(300, 3, 30),  # 长度300\n",
    "    np.random.randn(750, 3, 30) + 1j*np.random.randn(750, 3, 30),  # 长度750\n",
    "    np.random.randn(480, 3, 30) + 1j*np.random.randn(480, 3, 30)   # 长度480\n",
    "]\n",
    "\n",
    "# 执行重采样\n",
    "resampled_data = batch_resample(np.array(raw_data, dtype=object), 500)\n",
    "\n",
    "# 验证输出形状\n",
    "print(\"原始序列长度:\", [seq.shape[0] for seq in raw_data])\n",
    "print(\"重采样后长度:\", [seq.shape[0] for seq in resampled_data])\n",
    "print(\"示例数据形状（第一个样本）:\", resampled_data[0].shape)"
   ]
  },
  {
   "cell_type": "markdown",
   "metadata": {},
   "source": [
    "#### 2.1 CSI Dataset "
   ]
  },
  {
   "cell_type": "code",
   "execution_count": null,
   "metadata": {},
   "outputs": [],
   "source": [
    "import scipy.io as sio\n",
    "import os\n",
    "import numpy as np\n",
    "from typing import List\n",
    "import random\n",
    "import pywt\n",
    "\n",
    "from dataset.data import get_csi_data\n",
    "from dataset.datasets import CSI_Dataset, HAR_Dataset\n",
    "import matplotlib.pyplot as plt\n",
    "\n",
    "from torch.utils.data import DataLoader"
   ]
  },
  {
   "cell_type": "code",
   "execution_count": null,
   "metadata": {},
   "outputs": [],
   "source": [
    "# Widar\n",
    "data_path = '../data'\n",
    "batch_size = 20\n",
    "time_length = 2000\n",
    "req_domains = ['users', 'gesture_type', 'tosor_loc', 'face_ori', 'rec_dev']"
   ]
  },
  {
   "cell_type": "code",
   "execution_count": null,
   "metadata": {},
   "outputs": [],
   "source": [
    "train_datas, train_labels, eval_datas, eval_labels = get_csi_data(\n",
    "    data_path, \n",
    "    req_domains=req_domains,\n",
    ")\n",
    "\n",
    "train_labels.shape"
   ]
  },
  {
   "cell_type": "code",
   "execution_count": null,
   "metadata": {},
   "outputs": [],
   "source": [
    "# HAR\n",
    "train_datas = HAR_Dataset('D:/NTU-Fi_HAR/train_amp', time_length=2000)"
   ]
  },
  {
   "cell_type": "markdown",
   "metadata": {},
   "source": [
    "#### 2.2 DFS Data"
   ]
  },
  {
   "cell_type": "code",
   "execution_count": null,
   "metadata": {},
   "outputs": [],
   "source": [
    "import scipy.io as sio\n",
    "import os\n",
    "import numpy as np\n",
    "from typing import List\n",
    "import random\n",
    "import pywt\n",
    "\n",
    "from dataset.data import get_dfs_data\n",
    "from dataset.datasets import DFS_Dataset\n",
    "import matplotlib.pyplot as plt\n",
    "\n",
    "from torch.utils.data import DataLoader"
   ]
  },
  {
   "cell_type": "code",
   "execution_count": null,
   "metadata": {},
   "outputs": [],
   "source": [
    "dfs_data_path = '../dfs_data'\n",
    "req_domains = ['users', 'gesture_type', 'tosor_loc', 'face_ori']"
   ]
  },
  {
   "cell_type": "code",
   "execution_count": null,
   "metadata": {},
   "outputs": [],
   "source": [
    "train_datas, train_labels, eval_datas, eval_labels = get_dfs_data(dfs_data_path, req_domains)"
   ]
  },
  {
   "cell_type": "code",
   "execution_count": null,
   "metadata": {},
   "outputs": [],
   "source": [
    "train_dataset = DFS_Dataset(\n",
    "    dfs_data_path,\n",
    "    train_datas,\n",
    "    train_labels\n",
    ")"
   ]
  },
  {
   "cell_type": "markdown",
   "metadata": {},
   "source": [
    "### 3.Model"
   ]
  },
  {
   "cell_type": "code",
   "execution_count": null,
   "metadata": {},
   "outputs": [],
   "source": [
    "from model.embed import TokenEmbedding\n",
    "\n",
    "from einops import rearrange\n",
    "import torch\n",
    "import torch.nn as nn\n",
    "import torch.nn.functional as F\n",
    "from torchsummary import summary\n"
   ]
  },
  {
   "cell_type": "markdown",
   "metadata": {},
   "source": [
    "### GPT2"
   ]
  },
  {
   "cell_type": "code",
   "execution_count": 1,
   "metadata": {},
   "outputs": [
    {
     "name": "stderr",
     "output_type": "stream",
     "text": [
      "d:\\Anaconda\\envs\\Deep_Learning\\lib\\site-packages\\tqdm\\auto.py:21: TqdmWarning: IProgress not found. Please update jupyter and ipywidgets. See https://ipywidgets.readthedocs.io/en/stable/user_install.html\n",
      "  from .autonotebook import tqdm as notebook_tqdm\n"
     ]
    }
   ],
   "source": [
    "import torch\n",
    "from transformers.models.gpt2.modeling_gpt2 import GPT2Model, GPT2Config"
   ]
  },
  {
   "cell_type": "code",
   "execution_count": null,
   "metadata": {},
   "outputs": [],
   "source": [
    "model_config = GPT2Config.from_pretrained('openai-community/gpt2')\n",
    "model_config"
   ]
  },
  {
   "cell_type": "code",
   "execution_count": 3,
   "metadata": {},
   "outputs": [
    {
     "data": {
      "text/plain": [
       "GPT2Model(\n",
       "  (wte): Embedding(50257, 768)\n",
       "  (wpe): Embedding(1024, 768)\n",
       "  (drop): Dropout(p=0.1, inplace=False)\n",
       "  (h): ModuleList(\n",
       "    (0-11): 12 x GPT2Block(\n",
       "      (ln_1): LayerNorm((768,), eps=1e-05, elementwise_affine=True)\n",
       "      (attn): GPT2SdpaAttention(\n",
       "        (c_attn): Conv1D(nf=2304, nx=768)\n",
       "        (c_proj): Conv1D(nf=768, nx=768)\n",
       "        (attn_dropout): Dropout(p=0.1, inplace=False)\n",
       "        (resid_dropout): Dropout(p=0.1, inplace=False)\n",
       "      )\n",
       "      (ln_2): LayerNorm((768,), eps=1e-05, elementwise_affine=True)\n",
       "      (mlp): GPT2MLP(\n",
       "        (c_fc): Conv1D(nf=3072, nx=768)\n",
       "        (c_proj): Conv1D(nf=768, nx=3072)\n",
       "        (act): NewGELUActivation()\n",
       "        (dropout): Dropout(p=0.1, inplace=False)\n",
       "      )\n",
       "    )\n",
       "  )\n",
       "  (ln_f): LayerNorm((768,), eps=1e-05, elementwise_affine=True)\n",
       ")"
      ]
     },
     "execution_count": 3,
     "metadata": {},
     "output_type": "execute_result"
    }
   ],
   "source": [
    "# GPT2 Model\n",
    "model = GPT2Model.from_pretrained('openai-community/gpt2')\n",
    "model"
   ]
  },
  {
   "cell_type": "code",
   "execution_count": 4,
   "metadata": {},
   "outputs": [
    {
     "data": {
      "text/plain": [
       "True"
      ]
     },
     "execution_count": 4,
     "metadata": {},
     "output_type": "execute_result"
    }
   ],
   "source": [
    "word_weight = model.get_input_embeddings().weight\n",
    "word_weight.requires_grad"
   ]
  },
  {
   "cell_type": "markdown",
   "metadata": {},
   "source": [
    "### Qwen2.5-3B"
   ]
  },
  {
   "cell_type": "code",
   "execution_count": null,
   "metadata": {},
   "outputs": [],
   "source": [
    "import torch\n",
    "from transformers import Qwen2ForCausalLM, Qwen2Model, Qwen2Config\n",
    "\n",
    "from peft import get_peft_model, LoraConfig, TaskType"
   ]
  },
  {
   "cell_type": "code",
   "execution_count": null,
   "metadata": {},
   "outputs": [],
   "source": [
    "model_config = Qwen2Config.from_pretrained('unsloth/Qwen2.5-3B')\n",
    "model_config.num_hidden_layers = 12\n",
    "model_config"
   ]
  },
  {
   "cell_type": "code",
   "execution_count": null,
   "metadata": {},
   "outputs": [],
   "source": [
    "model = Qwen2Model.from_pretrained('unsloth/Qwen2.5-3B', config=model_config)\n",
    "model"
   ]
  },
  {
   "cell_type": "markdown",
   "metadata": {},
   "source": [
    "#### Llama-3-8B"
   ]
  },
  {
   "cell_type": "code",
   "execution_count": 5,
   "metadata": {},
   "outputs": [],
   "source": [
    "import torch\n",
    "from transformers import LlamaModel, LlamaConfig"
   ]
  },
  {
   "cell_type": "code",
   "execution_count": 6,
   "metadata": {},
   "outputs": [
    {
     "data": {
      "text/plain": [
       "LlamaConfig {\n",
       "  \"_name_or_path\": \"meta-llama/Llama-3.2-1B\",\n",
       "  \"architectures\": [\n",
       "    \"LlamaForCausalLM\"\n",
       "  ],\n",
       "  \"attention_bias\": false,\n",
       "  \"attention_dropout\": 0.0,\n",
       "  \"bos_token_id\": 128000,\n",
       "  \"eos_token_id\": 128001,\n",
       "  \"head_dim\": 64,\n",
       "  \"hidden_act\": \"silu\",\n",
       "  \"hidden_size\": 2048,\n",
       "  \"initializer_range\": 0.02,\n",
       "  \"intermediate_size\": 8192,\n",
       "  \"max_position_embeddings\": 131072,\n",
       "  \"mlp_bias\": false,\n",
       "  \"model_type\": \"llama\",\n",
       "  \"num_attention_heads\": 32,\n",
       "  \"num_hidden_layers\": 16,\n",
       "  \"num_key_value_heads\": 8,\n",
       "  \"pad_token_id\": 128004,\n",
       "  \"pretraining_tp\": 1,\n",
       "  \"rms_norm_eps\": 1e-05,\n",
       "  \"rope_scaling\": {\n",
       "    \"factor\": 32.0,\n",
       "    \"high_freq_factor\": 4.0,\n",
       "    \"low_freq_factor\": 1.0,\n",
       "    \"original_max_position_embeddings\": 8192,\n",
       "    \"rope_type\": \"llama3\"\n",
       "  },\n",
       "  \"rope_theta\": 500000.0,\n",
       "  \"tie_word_embeddings\": true,\n",
       "  \"torch_dtype\": \"bfloat16\",\n",
       "  \"transformers_version\": \"4.46.2\",\n",
       "  \"unsloth_fixed\": true,\n",
       "  \"use_cache\": true,\n",
       "  \"vocab_size\": 128256\n",
       "}"
      ]
     },
     "execution_count": 6,
     "metadata": {},
     "output_type": "execute_result"
    }
   ],
   "source": [
    "model_config = LlamaConfig.from_pretrained('unsloth/Llama-3.2-1B')\n",
    "model_config"
   ]
  },
  {
   "cell_type": "code",
   "execution_count": null,
   "metadata": {},
   "outputs": [],
   "source": [
    "model = LlamaModel.from_pretrained('unsloth/Llama-3.2-1B')\n",
    "model"
   ]
  },
  {
   "cell_type": "code",
   "execution_count": null,
   "metadata": {},
   "outputs": [],
   "source": []
  }
 ],
 "metadata": {
  "kernelspec": {
   "display_name": "Deep_Learning",
   "language": "python",
   "name": "python3"
  },
  "language_info": {
   "codemirror_mode": {
    "name": "ipython",
    "version": 3
   },
   "file_extension": ".py",
   "mimetype": "text/x-python",
   "name": "python",
   "nbconvert_exporter": "python",
   "pygments_lexer": "ipython3",
   "version": "3.10.13"
  }
 },
 "nbformat": 4,
 "nbformat_minor": 2
}
