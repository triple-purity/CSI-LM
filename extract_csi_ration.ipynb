{
 "cells": [
  {
   "cell_type": "code",
   "execution_count": 1,
   "metadata": {},
   "outputs": [
    {
     "name": "stderr",
     "output_type": "stream",
     "text": [
      "d:\\Anaconda\\envs\\Deep_Learning\\lib\\site-packages\\tqdm\\auto.py:21: TqdmWarning: IProgress not found. Please update jupyter and ipywidgets. See https://ipywidgets.readthedocs.io/en/stable/user_install.html\n",
      "  from .autonotebook import tqdm as notebook_tqdm\n"
     ]
    }
   ],
   "source": [
    "import os\n",
    "import numpy as np\n",
    "from scipy.io import loadmat, savemat\n",
    "from tqdm.auto import tqdm\n",
    "\n",
    "from utils.preprocess_tools import calculate_csi_ratio, hampel_filter, phase_calibration"
   ]
  },
  {
   "cell_type": "code",
   "execution_count": 2,
   "metadata": {},
   "outputs": [],
   "source": [
    "data_path = '../CSI-Data-Complex/env3'\n",
    "save_path = '../CSI-Ratio/env3'"
   ]
  },
  {
   "cell_type": "code",
   "execution_count": 3,
   "metadata": {},
   "outputs": [],
   "source": [
    "users = os.listdir(data_path)"
   ]
  },
  {
   "cell_type": "code",
   "execution_count": 4,
   "metadata": {},
   "outputs": [
    {
     "name": "stderr",
     "output_type": "stream",
     "text": [
      "100%|██████████| 750/750 [00:00<00:00, 8100.49it/s]\n",
      "100%|██████████| 749/749 [00:00<00:00, 9417.15it/s]\n",
      "100%|██████████| 750/750 [27:22<00:00,  2.19s/it] \n",
      "100%|██████████| 750/750 [18:26<00:00,  1.47s/it]  \n"
     ]
    }
   ],
   "source": [
    "for user in users:\n",
    "    data_user_path = os.path.join(data_path, user)\n",
    "    save_user_path = os.path.join(save_path, user)\n",
    "    if not os.path.exists(save_user_path):\n",
    "        os.makedirs(save_user_path)\n",
    "    \n",
    "    for file in tqdm(os.listdir(data_user_path)):\n",
    "        if os.path.exists(os.path.join(save_user_path, file)):\n",
    "            continue\n",
    "        try:\n",
    "            origin_csi = loadmat(os.path.join(data_user_path, file))['csi_data']\n",
    "            origin_csi = origin_csi.reshape(origin_csi.shape[0], 3, -1)\n",
    "            csi_ratio, antenna_index = calculate_csi_ratio(origin_csi)\n",
    "            csi_ratio = np.concatenate((csi_ratio[:, :antenna_index, :], csi_ratio[:, antenna_index+1:, :]), axis=1)    \n",
    "            angle_csi_ratio = np.angle(csi_ratio)\n",
    "            angle_csi_ratio = phase_calibration(hampel_filter(angle_csi_ratio))\n",
    "            angle_csi_ratio = angle_csi_ratio.reshape(angle_csi_ratio.shape[0], -1)\n",
    "            savemat(os.path.join(save_user_path, file), {'csi-ratio':angle_csi_ratio})\n",
    "        except:\n",
    "            continue        \n",
    "\n"
   ]
  }
 ],
 "metadata": {
  "kernelspec": {
   "display_name": "Deep_Learning",
   "language": "python",
   "name": "python3"
  },
  "language_info": {
   "codemirror_mode": {
    "name": "ipython",
    "version": 3
   },
   "file_extension": ".py",
   "mimetype": "text/x-python",
   "name": "python",
   "nbconvert_exporter": "python",
   "pygments_lexer": "ipython3",
   "version": "3.9.20"
  }
 },
 "nbformat": 4,
 "nbformat_minor": 2
}
